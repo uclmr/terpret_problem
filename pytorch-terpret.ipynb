{
 "cells": [
  {
   "cell_type": "code",
   "execution_count": 2,
   "metadata": {},
   "outputs": [],
   "source": [
    "import torch"
   ]
  },
  {
   "cell_type": "code",
   "execution_count": 3,
   "metadata": {},
   "outputs": [],
   "source": [
    "k = 20"
   ]
  },
  {
   "cell_type": "markdown",
   "metadata": {},
   "source": [
    "# Inexact Marginals\n",
    "This is the terpret problem with inexact marginals. "
   ]
  },
  {
   "cell_type": "code",
   "execution_count": 8,
   "metadata": {},
   "outputs": [
    {
     "data": {
      "text/plain": [
       "(tensor(2.7908, grad_fn=<NegBackward>),\n",
       " tensor([100., 100.,  50.,   0.,   0.,   0.,   0.,   0.,   0.,  50., 100., 100.,\n",
       "         100., 100., 100., 100., 100., 100., 100., 100., 100.],\n",
       "        grad_fn=<RoundBackward>))"
      ]
     },
     "execution_count": 8,
     "metadata": {},
     "output_type": "execute_result"
    }
   ],
   "source": [
    "mu = torch.randn(k,  requires_grad=True)\n",
    "optimizer = torch.optim.SGD([mu], lr=1e-1)\n",
    "for t in range(0,10000):\n",
    "    x = torch.cat((torch.tensor([1.0]), torch.sigmoid(mu)))\n",
    "    z = torch.cat((x[-1:], x[:-1])) \n",
    "    equi = x * z + (1-x) * (1-z)\n",
    "    all_equi = torch.prod(equi)\n",
    "    loss = -torch.log(all_equi)\n",
    "    optimizer.zero_grad()\n",
    "    loss.backward()\n",
    "    optimizer.step()\n",
    "loss, torch.round(x*100)"
   ]
  },
  {
   "cell_type": "markdown",
   "metadata": {},
   "source": [
    "# Inexact Max-Marginals\n",
    "\n",
    "This is the same with max-marginals"
   ]
  },
  {
   "cell_type": "code",
   "execution_count": 10,
   "metadata": {},
   "outputs": [
    {
     "data": {
      "text/plain": [
       "(tensor(0.0002, grad_fn=<NegBackward>),\n",
       " tensor([100.,  36.,  28.,  28.,   0.,   0.,  45.,  14.,  34.,  51.,  62.,  43.,\n",
       "          84.,  28.,  45.,  56.,  77.,  70.,  90.,  22.,  63.],\n",
       "        grad_fn=<RoundBackward>))"
      ]
     },
     "execution_count": 10,
     "metadata": {},
     "output_type": "execute_result"
    }
   ],
   "source": [
    "mu = torch.randn(k,  requires_grad=True)\n",
    "optimizer = torch.optim.SGD([mu], lr=1e-1)\n",
    "for t in range(0,100000):\n",
    "    x = torch.cat((torch.tensor([1.0]), torch.sigmoid(mu)))\n",
    "    z = torch.cat((x[-1:], x[:-1])) \n",
    "    equi = torch.max(x * z + (1-x) * (1-z))\n",
    "    all_equi = torch.max(equi)\n",
    "    loss = -torch.log(all_equi)\n",
    "    optimizer.zero_grad()\n",
    "    loss.backward()\n",
    "    optimizer.step()\n",
    "loss, torch.round(x*100)"
   ]
  },
  {
   "cell_type": "markdown",
   "metadata": {},
   "source": [
    "This is learning with an exact forward marginal (probability of all XORs/EQUI nodes to be active."
   ]
  },
  {
   "cell_type": "code",
   "execution_count": 157,
   "metadata": {},
   "outputs": [
    {
     "data": {
      "text/plain": [
       "(tensor(0.2052, grad_fn=<NegBackward>),\n",
       " tensor([100.,  99.,  99.,  99.,  99.,  99.,  99.,  99.,  99.,  99.,  99.,  99.,\n",
       "          99.,  99.,  99.,  99.,  99.,  99.,  99.,  99.,  99.],\n",
       "        grad_fn=<RoundBackward>))"
      ]
     },
     "execution_count": 157,
     "metadata": {},
     "output_type": "execute_result"
    }
   ],
   "source": [
    "mu = torch.randn(k,  requires_grad=True)\n",
    "optimizer = torch.optim.SGD([mu], lr=1e-2)\n",
    "for t in range(0,10000):\n",
    "    x = torch.cat((torch.tensor([1.0]), torch.sigmoid(mu)))\n",
    "    all_equi = torch.prod(x) + torch.prod(1.0 - x)\n",
    "    loss = -torch.log(all_equi)\n",
    "    optimizer.zero_grad()\n",
    "    loss.backward()\n",
    "    optimizer.step()\n",
    "loss, torch.round(x*100)"
   ]
  },
  {
   "cell_type": "code",
   "execution_count": null,
   "metadata": {},
   "outputs": [],
   "source": [
    "mu = torch.randn(k,  requires_grad=True)"
   ]
  },
  {
   "cell_type": "code",
   "execution_count": 21,
   "metadata": {},
   "outputs": [
    {
     "data": {
      "text/plain": [
       "(tensor([1.0000, 0.3506, 0.5822, 0.5305, 0.3434, 0.5266, 0.4675, 0.2158, 0.4149,\n",
       "         0.6560, 0.6453, 0.5317, 0.1204, 0.3375, 0.3203, 0.8821, 0.4624, 0.2785,\n",
       "         0.7742, 0.3175, 0.3915, 0.2815, 0.2538, 0.8902, 0.2406, 0.2683, 0.4788,\n",
       "         0.6625, 0.8804, 0.1115, 0.9080], grad_fn=<CatBackward>),\n",
       " tensor([0.9080, 1.0000, 0.3506, 0.5822, 0.5305, 0.3434, 0.5266, 0.4675, 0.2158,\n",
       "         0.4149, 0.6560, 0.6453, 0.5317, 0.1204, 0.3375, 0.3203, 0.8821, 0.4624,\n",
       "         0.2785, 0.7742, 0.3175, 0.3915, 0.2815, 0.2538, 0.8902, 0.2406, 0.2683,\n",
       "         0.4788, 0.6625, 0.8804, 0.1115], grad_fn=<CatBackward>))"
      ]
     },
     "execution_count": 21,
     "metadata": {},
     "output_type": "execute_result"
    }
   ],
   "source": [
    "x_0 = torch.cat((torch.tensor([1.0]), torch.sigmoid(mu)))\n",
    "x_1 = torch.cat((x_0[-1:], x_0[:-1])) \n",
    "x_2 = torch.cat((x_1[-1:], x_1[:-1])) \n",
    "x_0, x_1"
   ]
  },
  {
   "cell_type": "code",
   "execution_count": 22,
   "metadata": {},
   "outputs": [
    {
     "data": {
      "text/plain": [
       "tensor([0.1013, 0.2041, 0.2349, 0.2501, 0.2862, 0.2470, 0.1874, 0.4091, 0.1737,\n",
       "        0.1873, 0.1900, 0.3542, 0.1166, 0.3205, 0.3003],\n",
       "       grad_fn=<SliceBackward>)"
      ]
     },
     "execution_count": 22,
     "metadata": {},
     "output_type": "execute_result"
    }
   ],
   "source": [
    "equi_true_true = x_0 * x_1 * x_2 + (1-x_0) * (1-x_1) * (1-x_2)\n",
    "equi_true_true[0:-1:2]"
   ]
  },
  {
   "cell_type": "code",
   "execution_count": 24,
   "metadata": {},
   "outputs": [
    {
     "data": {
      "text/plain": [
       "tensor(5.8105e-22, grad_fn=<ProdBackward1>)"
      ]
     },
     "execution_count": 24,
     "metadata": {},
     "output_type": "execute_result"
    }
   ],
   "source": [
    "all_equi = torch.prod(equi_true_true) \n",
    "all_equi"
   ]
  },
  {
   "cell_type": "markdown",
   "metadata": {},
   "source": [
    "The code below aggregates several XOR variables to provide a joint distribution over these for the aggregation layer. In the limit (of aggregating over the complete set of variables), this should result in the optimal solution (because the forward marginal would be correct. "
   ]
  },
  {
   "cell_type": "code",
   "execution_count": 156,
   "metadata": {},
   "outputs": [
    {
     "data": {
      "text/plain": [
       "(tensor(0.0199, grad_fn=<NegBackward>),\n",
       " tensor([100., 100., 100., 100., 100., 100., 100., 100., 100., 100., 100., 100.,\n",
       "         100., 100., 100., 100., 100., 100., 100., 100., 100.],\n",
       "        grad_fn=<RoundBackward>))"
      ]
     },
     "execution_count": 156,
     "metadata": {},
     "output_type": "execute_result"
    }
   ],
   "source": [
    "k = 20\n",
    "mu = torch.randn(k,  requires_grad=True)\n",
    "optimizer = torch.optim.SGD([mu], lr=1e-1)\n",
    "for t in range(0,10000):\n",
    "    x_0 = torch.cat((torch.tensor([1.0]), torch.sigmoid(mu)))\n",
    "    x_1 = torch.cat((x_0[-1:], x_0[:-1])) \n",
    "    x_2 = torch.cat((x_1[-1:], x_1[:-1])) \n",
    "    x_3 = torch.cat((x_2[-1:], x_2[:-1])) \n",
    "    equi_true_true = x_0 * x_1 * x_2 * x_3 + (1-x_0) * (1-x_1) * (1-x_2) * (1-x_3)\n",
    "    offset = t % 3\n",
    "    equi_true_true = torch.cat((equi_true_true[offset:], equi_true_true[:offset]))\n",
    "    all_equi = torch.prod(equi_true_true[0:-1:3]) \n",
    "    loss = -torch.log(all_equi)\n",
    "    optimizer.zero_grad()\n",
    "    loss.backward()\n",
    "    optimizer.step()\n",
    "loss, torch.round(x_0*100)"
   ]
  },
  {
   "cell_type": "code",
   "execution_count": 705,
   "metadata": {},
   "outputs": [
    {
     "data": {
      "text/plain": [
       "(tensor(7.5020e-10, grad_fn=<ThMulBackward>),\n",
       " tensor(4.2494e-11, grad_fn=<ThAddBackward>),\n",
       " tensor(0.0002, grad_fn=<ThAddBackward>))"
      ]
     },
     "execution_count": 705,
     "metadata": {},
     "output_type": "execute_result"
    }
   ],
   "source": [
    "mu = torch.randn(k,  requires_grad=True)\n",
    "x = torch.cat((torch.tensor([1.0]), torch.sigmoid(mu)))\n",
    "def compute_all_equi(x):\n",
    "    all_equi_true = 1.0\n",
    "    all_equi_false = 1.0\n",
    "    for i in range(0,k+1):\n",
    "        prev = i-1 % k\n",
    "        all_equi_true = all_equi_true * x[i]\n",
    "        all_equi_false = all_equi_false * (1-x[i])\n",
    "    return all_equi_false + all_equi_true\n",
    "\n",
    "def compute_all_equi_uncorrected(x):\n",
    "    all_equi_dumb = 1.0\n",
    "    for i in range(0,k+1):\n",
    "        prev = i-1 % k\n",
    "        all_equi_dumb = all_equi_dumb * ((x[i] * x[prev]) + (1-x[i]) * (1-x[prev]))\n",
    "    return all_equi_dumb\n",
    "\n",
    "def compute_all_equi_corrected(x):\n",
    "    all_equi_dumb = 1.0\n",
    "    for i in range(0,k+1):\n",
    "        prev = i-1 % k\n",
    "        \n",
    "        all_equi_dumb = all_equi_dumb * ((x[i] * x[prev]) + (1-x[i]) * (1-x[prev]))\n",
    "        all_equi_dumb += all_equi_dumb * ((x[i] * (1-x[prev])) + (1-x[i]) * x[prev])\n",
    "    return all_equi_dumb\n",
    "\n",
    "compute_all_equi_uncorrected(x), compute_all_equi(x), compute_all_equi_corrected(x)"
   ]
  },
  {
   "cell_type": "code",
   "execution_count": 701,
   "metadata": {},
   "outputs": [
    {
     "data": {
      "text/plain": [
       "(tensor(6.2719, grad_fn=<NegBackward>),\n",
       " tensor([100.,  99.,  99.,  98.,  50.,   3.,   1.,   1.,   1.,   1.,   2.,   2.,\n",
       "           2.,   1.,   2.,  49.,  97.,  99.,  99.,  99.,  99.,  98.,  51.,   3.,\n",
       "           1.,   1.,   1.,   1.,   2.,  49.,  97.], grad_fn=<RoundBackward>))"
      ]
     },
     "execution_count": 701,
     "metadata": {},
     "output_type": "execute_result"
    }
   ],
   "source": [
    "mu = torch.randn(k,  requires_grad=True)\n",
    "optimizer = torch.optim.SGD([mu], lr=1e-1)\n",
    "for t in range(0,400):\n",
    "    x = torch.cat((torch.tensor([1.0]), torch.sigmoid(mu)))\n",
    "#     print(x)\n",
    "#     all_equi = compute_all_equi(x)\n",
    "    all_equi = compute_all_equi_uncorrected(x)\n",
    "    loss = -torch.log(all_equi)\n",
    "    optimizer.zero_grad()\n",
    "    loss.backward()\n",
    "    optimizer.step()\n",
    "#     print(loss)\n",
    "\n",
    "loss, torch.round(x*100)"
   ]
  },
  {
   "cell_type": "code",
   "execution_count": 660,
   "metadata": {},
   "outputs": [
    {
     "ename": "TypeError",
     "evalue": "'Tensor' object is not callable",
     "output_type": "error",
     "traceback": [
      "\u001b[0;31m---------------------------------------------------------------------------\u001b[0m",
      "\u001b[0;31mTypeError\u001b[0m                                 Traceback (most recent call last)",
      "\u001b[0;32m<ipython-input-660-2b32af74442b>\u001b[0m in \u001b[0;36m<module>\u001b[0;34m()\u001b[0m\n\u001b[0;32m----> 1\u001b[0;31m \u001b[0mall_equi\u001b[0m\u001b[0;34m(\u001b[0m\u001b[0mmu\u001b[0m\u001b[0;34m)\u001b[0m\u001b[0;34m\u001b[0m\u001b[0m\n\u001b[0m",
      "\u001b[0;31mTypeError\u001b[0m: 'Tensor' object is not callable"
     ]
    }
   ],
   "source": []
  },
  {
   "cell_type": "code",
   "execution_count": 78,
   "metadata": {},
   "outputs": [
    {
     "data": {
      "text/plain": [
       "(tensor(0.1128), tensor(0.0531))"
      ]
     },
     "execution_count": 78,
     "metadata": {},
     "output_type": "execute_result"
    }
   ],
   "source": [
    "eq_12 = x[0] * x[1] + (1-x[0])*(1 - x[1])\n",
    "eq_12_true = x[0] * x[1]\n",
    "eq_12_false = (1-x[0]) * (1-x[1])\n",
    "eq_123_true =  eq_12_true * x[2]\n",
    "eq_123_false = eq_12_false * (1-x[2])\n",
    "eq_23_true = x[1] * x[2]\n",
    "eq_23_false = (1-x[1])*(1-x[2])\n",
    "eq_123_true, eq_12_true * eq_23_true"
   ]
  }
 ],
 "metadata": {
  "kernelspec": {
   "display_name": "Python 3",
   "language": "python",
   "name": "python3"
  },
  "language_info": {
   "codemirror_mode": {
    "name": "ipython",
    "version": 3
   },
   "file_extension": ".py",
   "mimetype": "text/x-python",
   "name": "python",
   "nbconvert_exporter": "python",
   "pygments_lexer": "ipython3",
   "version": "3.7.0"
  }
 },
 "nbformat": 4,
 "nbformat_minor": 2
}
